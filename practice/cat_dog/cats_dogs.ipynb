{
 "cells": [
  {
   "cell_type": "markdown",
   "id": "bc607695-3f31-46e7-adc3-ebca2ccbec69",
   "metadata": {},
   "source": [
    "# 猫狗识别的模型"
   ]
  },
  {
   "cell_type": "markdown",
   "id": "e4a70c4f-4858-47a6-929d-b2fa72141b14",
   "metadata": {},
   "source": [
    "将原始文件放入指定的目录中"
   ]
  },
  {
   "cell_type": "code",
   "execution_count": 5,
   "id": "102b17d9-88c8-45a9-b1c2-a72124de7f64",
   "metadata": {},
   "outputs": [],
   "source": [
    "import os, shutil, pathlib\n",
    "\n",
    "original_dir = pathlib.Path(\"./_data/raw_data/train\")\n",
    "formatted_dir = pathlib.Path(\"./_data/formatted_data\")\n",
    "\n",
    "\n",
    "def make_subset(subset_name, start_index, end_index):\n",
    "    for category in (\"cat\", \"dog\"):\n",
    "        dir = formatted_dir / subset_name / category\n",
    "        os.makedirs(dir)\n",
    "        fnames = [f\"{category}.{i}.jpg\" for i in range(start_index, end_index)] \n",
    "        for fname in fnames:\n",
    "            shutil.copyfile(src=original_dir / fname, dst=dir / fname)\n",
    "\n",
    "make_subset(\"train\", start_index=0, end_index=10000)\n"
   ]
  },
  {
   "cell_type": "code",
   "execution_count": 10,
   "id": "0e2a16dc-e6b9-4f93-8ed0-43569c17fd7c",
   "metadata": {},
   "outputs": [],
   "source": [
    "make_subset(\"validation\", start_index=10000,end_index=12000)\n",
    "make_subset(\"test\", start_index=12000,end_index=12500)"
   ]
  },
  {
   "cell_type": "code",
   "execution_count": 7,
   "id": "fcc7e78d-75cf-4a10-934c-1c7f98e7636a",
   "metadata": {},
   "outputs": [
    {
     "name": "stderr",
     "output_type": "stream",
     "text": [
      "2024-03-17 10:58:22.252821: I external/local_xla/xla/stream_executor/cuda/cuda_executor.cc:887] could not open file to read NUMA node: /sys/bus/pci/devices/0000:01:00.0/numa_node\n",
      "Your kernel may have been built without NUMA support.\n",
      "2024-03-17 10:58:22.440471: I external/local_xla/xla/stream_executor/cuda/cuda_executor.cc:887] could not open file to read NUMA node: /sys/bus/pci/devices/0000:01:00.0/numa_node\n",
      "Your kernel may have been built without NUMA support.\n",
      "2024-03-17 10:58:22.440589: I external/local_xla/xla/stream_executor/cuda/cuda_executor.cc:887] could not open file to read NUMA node: /sys/bus/pci/devices/0000:01:00.0/numa_node\n",
      "Your kernel may have been built without NUMA support.\n",
      "2024-03-17 10:58:22.443344: I external/local_xla/xla/stream_executor/cuda/cuda_executor.cc:887] could not open file to read NUMA node: /sys/bus/pci/devices/0000:01:00.0/numa_node\n",
      "Your kernel may have been built without NUMA support.\n",
      "2024-03-17 10:58:22.443416: I external/local_xla/xla/stream_executor/cuda/cuda_executor.cc:887] could not open file to read NUMA node: /sys/bus/pci/devices/0000:01:00.0/numa_node\n",
      "Your kernel may have been built without NUMA support.\n",
      "2024-03-17 10:58:22.443452: I external/local_xla/xla/stream_executor/cuda/cuda_executor.cc:887] could not open file to read NUMA node: /sys/bus/pci/devices/0000:01:00.0/numa_node\n",
      "Your kernel may have been built without NUMA support.\n",
      "2024-03-17 10:58:22.670150: I external/local_xla/xla/stream_executor/cuda/cuda_executor.cc:887] could not open file to read NUMA node: /sys/bus/pci/devices/0000:01:00.0/numa_node\n",
      "Your kernel may have been built without NUMA support.\n",
      "2024-03-17 10:58:22.670200: I external/local_xla/xla/stream_executor/cuda/cuda_executor.cc:887] could not open file to read NUMA node: /sys/bus/pci/devices/0000:01:00.0/numa_node\n",
      "Your kernel may have been built without NUMA support.\n",
      "2024-03-17 10:58:22.670206: I tensorflow/core/common_runtime/gpu/gpu_device.cc:2022] Could not identify NUMA node of platform GPU id 0, defaulting to 0.  Your kernel may not have been built with NUMA support.\n",
      "2024-03-17 10:58:22.670230: I external/local_xla/xla/stream_executor/cuda/cuda_executor.cc:887] could not open file to read NUMA node: /sys/bus/pci/devices/0000:01:00.0/numa_node\n",
      "Your kernel may have been built without NUMA support.\n",
      "2024-03-17 10:58:22.670245: I tensorflow/core/common_runtime/gpu/gpu_device.cc:1929] Created device /job:localhost/replica:0/task:0/device:GPU:0 with 5606 MB memory:  -> device: 0, name: NVIDIA GeForce RTX 3060 Ti, pci bus id: 0000:01:00.0, compute capability: 8.6\n"
     ]
    }
   ],
   "source": [
    "from tensorflow import keras\n",
    "from tensorflow.keras import layers\n",
    "\n",
    "inputs = keras.Input(shape=(180,180,3))\n",
    "x = layers.Rescaling(1./255)(inputs)\n",
    "x = layers.Conv2D(filters=32, kernel_size=3, activation=\"relu\")(x)\n",
    "x = layers.MaxPooling2D(pool_size=2)(x)\n",
    "x = layers.Conv2D(filters=64, kernel_size=3, activation=\"relu\")(x)\n",
    "x = layers.MaxPooling2D(pool_size=2)(x)\n",
    "x = layers.Conv2D(filters=128, kernel_size=3, activation=\"relu\")(x)\n",
    "x = layers.MaxPooling2D(pool_size=2)(x)\n",
    "x = layers.Conv2D(filters=256, kernel_size=3, activation=\"relu\")(x)\n",
    "x = layers.MaxPooling2D(pool_size=2)(x)\n",
    "x = layers.Conv2D(filters=256, kernel_size=3, activation=\"relu\")(x)\n",
    "x = layers.Flatten()(x)\n",
    "outputs = layers.Dense(1, activation=\"sigmoid\")(x)\n",
    "model = keras.Model(inputs=inputs, outputs=outputs)\n"
   ]
  },
  {
   "cell_type": "code",
   "execution_count": 8,
   "id": "c8b3cd3c-9e8b-4682-ad48-a1bae4426d84",
   "metadata": {},
   "outputs": [
    {
     "name": "stdout",
     "output_type": "stream",
     "text": [
      "Model: \"model\"\n",
      "_________________________________________________________________\n",
      " Layer (type)                Output Shape              Param #   \n",
      "=================================================================\n",
      " input_2 (InputLayer)        [(None, 180, 180, 3)]     0         \n",
      "                                                                 \n",
      " rescaling_1 (Rescaling)     (None, 180, 180, 3)       0         \n",
      "                                                                 \n",
      " conv2d (Conv2D)             (None, 178, 178, 32)      896       \n",
      "                                                                 \n",
      " max_pooling2d (MaxPooling2  (None, 89, 89, 32)        0         \n",
      " D)                                                              \n",
      "                                                                 \n",
      " conv2d_1 (Conv2D)           (None, 87, 87, 64)        18496     \n",
      "                                                                 \n",
      " max_pooling2d_1 (MaxPoolin  (None, 43, 43, 64)        0         \n",
      " g2D)                                                            \n",
      "                                                                 \n",
      " conv2d_2 (Conv2D)           (None, 41, 41, 128)       73856     \n",
      "                                                                 \n",
      " max_pooling2d_2 (MaxPoolin  (None, 20, 20, 128)       0         \n",
      " g2D)                                                            \n",
      "                                                                 \n",
      " conv2d_3 (Conv2D)           (None, 18, 18, 256)       295168    \n",
      "                                                                 \n",
      " max_pooling2d_3 (MaxPoolin  (None, 9, 9, 256)         0         \n",
      " g2D)                                                            \n",
      "                                                                 \n",
      " conv2d_4 (Conv2D)           (None, 7, 7, 256)         590080    \n",
      "                                                                 \n",
      " flatten (Flatten)           (None, 12544)             0         \n",
      "                                                                 \n",
      " dense (Dense)               (None, 1)                 12545     \n",
      "                                                                 \n",
      "=================================================================\n",
      "Total params: 991041 (3.78 MB)\n",
      "Trainable params: 991041 (3.78 MB)\n",
      "Non-trainable params: 0 (0.00 Byte)\n",
      "_________________________________________________________________\n"
     ]
    }
   ],
   "source": [
    "model.summary()"
   ]
  },
  {
   "cell_type": "code",
   "execution_count": 9,
   "id": "82504da6-a65e-4e26-a8ba-3c333b82d5c8",
   "metadata": {},
   "outputs": [],
   "source": [
    "model.compile(loss=\"binary_crossentropy\",\n",
    "              optimizer=\"rmsprop\",\n",
    "              metrics=[\"accuracy\"])"
   ]
  },
  {
   "cell_type": "code",
   "execution_count": 13,
   "id": "9e07e4bb-2108-46dd-854a-cb04a3ec2ad3",
   "metadata": {},
   "outputs": [
    {
     "name": "stdout",
     "output_type": "stream",
     "text": [
      "Found 20000 files belonging to 2 classes.\n",
      "Found 4000 files belonging to 2 classes.\n",
      "Found 1000 files belonging to 2 classes.\n"
     ]
    }
   ],
   "source": [
    "from tensorflow.keras.utils import image_dataset_from_directory\n",
    "\n",
    "train_dataset = image_dataset_from_directory(\n",
    "    formatted_dir / \"train\",\n",
    "    image_size=(180, 180),\n",
    "    batch_size=32)\n",
    "validation_dataset = image_dataset_from_directory(\n",
    "    formatted_dir / \"validation\",\n",
    "    image_size=(180, 180),\n",
    "    batch_size=32)\n",
    "test_dataset = image_dataset_from_directory(\n",
    "    formatted_dir / \"test\",\n",
    "    image_size=(180, 180),\n",
    "    batch_size=32)"
   ]
  },
  {
   "cell_type": "code",
   "execution_count": 15,
   "id": "67bf494b-18ed-4c76-9e8b-158ea5772881",
   "metadata": {},
   "outputs": [],
   "source": [
    "import numpy as np\n",
    "import tensorflow as tf\n",
    "random_numbers = np.random.normal(size=(10000, 16))\n",
    "dataset = tf.data.Dataset.from_tensor_slices(random_numbers)"
   ]
  },
  {
   "cell_type": "code",
   "execution_count": 16,
   "id": "1497ee63-bc96-43d1-9e1b-80c33cfc9f58",
   "metadata": {},
   "outputs": [
    {
     "name": "stdout",
     "output_type": "stream",
     "text": [
      "(16,)\n",
      "(16,)\n",
      "(16,)\n"
     ]
    }
   ],
   "source": [
    "for i, element in enumerate(dataset):\n",
    "    print(element.shape)\n",
    "    if i >= 2:\n",
    "        break"
   ]
  },
  {
   "cell_type": "code",
   "execution_count": 17,
   "id": "33992117-8e04-4a3f-89f4-bc17a4872cac",
   "metadata": {},
   "outputs": [
    {
     "name": "stdout",
     "output_type": "stream",
     "text": [
      "(32, 16)\n",
      "(32, 16)\n",
      "(32, 16)\n"
     ]
    }
   ],
   "source": [
    "batched_dataset = dataset.batch(32)\n",
    "for i, element in enumerate(batched_dataset):\n",
    "    print(element.shape)\n",
    "    if i >= 2:\n",
    "        break"
   ]
  },
  {
   "cell_type": "code",
   "execution_count": 18,
   "id": "db0ac771-fb8f-4d4c-b952-013aa02743fd",
   "metadata": {},
   "outputs": [
    {
     "name": "stdout",
     "output_type": "stream",
     "text": [
      "(4, 4)\n",
      "(4, 4)\n",
      "(4, 4)\n"
     ]
    }
   ],
   "source": [
    "reshaped_dataset = dataset.map(lambda x: tf.reshape(x, (4, 4)))\n",
    "for i, element in enumerate(reshaped_dataset):\n",
    "    print(element.shape)\n",
    "    if i >= 2:\n",
    "        break"
   ]
  },
  {
   "cell_type": "code",
   "execution_count": 19,
   "id": "a7fb9622-10a5-44af-968d-1fb94b17c6c8",
   "metadata": {},
   "outputs": [
    {
     "name": "stdout",
     "output_type": "stream",
     "text": [
      "data batch shape: (32, 180, 180, 3)\n",
      "labels batch shape: (32,)\n"
     ]
    }
   ],
   "source": [
    "for data_batch, labels_batch in train_dataset:\n",
    "    print(\"data batch shape:\", data_batch.shape)\n",
    "    print(\"labels batch shape:\", labels_batch.shape)\n",
    "    break"
   ]
  },
  {
   "cell_type": "code",
   "execution_count": 20,
   "id": "ce9ce6da-12f8-4573-b024-9cdc67f62014",
   "metadata": {},
   "outputs": [
    {
     "name": "stdout",
     "output_type": "stream",
     "text": [
      "Epoch 1/30\n"
     ]
    },
    {
     "name": "stderr",
     "output_type": "stream",
     "text": [
      "2024-03-17 11:08:29.132023: I external/local_xla/xla/stream_executor/cuda/cuda_dnn.cc:454] Loaded cuDNN version 8907\n",
      "2024-03-17 11:08:31.071628: I external/local_xla/xla/service/service.cc:168] XLA service 0x7fdf5c76f400 initialized for platform CUDA (this does not guarantee that XLA will be used). Devices:\n",
      "2024-03-17 11:08:31.071675: I external/local_xla/xla/service/service.cc:176]   StreamExecutor device (0): NVIDIA GeForce RTX 3060 Ti, Compute Capability 8.6\n",
      "2024-03-17 11:08:31.427404: I tensorflow/compiler/mlir/tensorflow/utils/dump_mlir_util.cc:269] disabling MLIR crash reproducer, set env var `MLIR_CRASH_REPRODUCER_DIRECTORY` to enable.\n",
      "WARNING: All log messages before absl::InitializeLog() is called are written to STDERR\n",
      "I0000 00:00:1710644912.124219    5894 device_compiler.h:186] Compiled cluster using XLA!  This line is logged at most once for the lifetime of the process.\n"
     ]
    },
    {
     "name": "stdout",
     "output_type": "stream",
     "text": [
      "625/625 [==============================] - 26s 32ms/step - loss: 0.6210 - accuracy: 0.6403 - val_loss: 0.5167 - val_accuracy: 0.7420\n",
      "Epoch 2/30\n",
      "625/625 [==============================] - 20s 31ms/step - loss: 0.4652 - accuracy: 0.7814 - val_loss: 0.3945 - val_accuracy: 0.8190\n",
      "Epoch 3/30\n",
      "625/625 [==============================] - 20s 31ms/step - loss: 0.3453 - accuracy: 0.8446 - val_loss: 0.3063 - val_accuracy: 0.8645\n",
      "Epoch 4/30\n",
      "625/625 [==============================] - 20s 31ms/step - loss: 0.2690 - accuracy: 0.8844 - val_loss: 0.3856 - val_accuracy: 0.8510\n",
      "Epoch 5/30\n",
      "625/625 [==============================] - 20s 32ms/step - loss: 0.2158 - accuracy: 0.9121 - val_loss: 0.2809 - val_accuracy: 0.8823\n",
      "Epoch 6/30\n",
      "625/625 [==============================] - 20s 32ms/step - loss: 0.1714 - accuracy: 0.9305 - val_loss: 0.2556 - val_accuracy: 0.8957\n",
      "Epoch 7/30\n",
      "625/625 [==============================] - 20s 31ms/step - loss: 0.1376 - accuracy: 0.9463 - val_loss: 0.2465 - val_accuracy: 0.9013\n",
      "Epoch 8/30\n",
      "625/625 [==============================] - 20s 32ms/step - loss: 0.1090 - accuracy: 0.9582 - val_loss: 0.3798 - val_accuracy: 0.8980\n",
      "Epoch 9/30\n",
      "625/625 [==============================] - 20s 31ms/step - loss: 0.0943 - accuracy: 0.9656 - val_loss: 0.4732 - val_accuracy: 0.8978\n",
      "Epoch 10/30\n",
      "625/625 [==============================] - 20s 31ms/step - loss: 0.0866 - accuracy: 0.9692 - val_loss: 0.4130 - val_accuracy: 0.9095\n",
      "Epoch 11/30\n",
      "625/625 [==============================] - 20s 31ms/step - loss: 0.0758 - accuracy: 0.9736 - val_loss: 0.4863 - val_accuracy: 0.8965\n",
      "Epoch 12/30\n",
      "625/625 [==============================] - 20s 32ms/step - loss: 0.0740 - accuracy: 0.9770 - val_loss: 0.5852 - val_accuracy: 0.8770\n",
      "Epoch 13/30\n",
      "625/625 [==============================] - 20s 31ms/step - loss: 0.0745 - accuracy: 0.9760 - val_loss: 0.5349 - val_accuracy: 0.9032\n",
      "Epoch 14/30\n",
      "625/625 [==============================] - 20s 32ms/step - loss: 0.0683 - accuracy: 0.9796 - val_loss: 1.1595 - val_accuracy: 0.8755\n",
      "Epoch 15/30\n",
      "625/625 [==============================] - 20s 32ms/step - loss: 0.0691 - accuracy: 0.9804 - val_loss: 0.8516 - val_accuracy: 0.8953\n",
      "Epoch 16/30\n",
      "625/625 [==============================] - 20s 31ms/step - loss: 0.0692 - accuracy: 0.9808 - val_loss: 0.5295 - val_accuracy: 0.9025\n",
      "Epoch 17/30\n",
      "625/625 [==============================] - 20s 31ms/step - loss: 0.0633 - accuracy: 0.9829 - val_loss: 0.6295 - val_accuracy: 0.8865\n",
      "Epoch 18/30\n",
      "625/625 [==============================] - 20s 32ms/step - loss: 0.0735 - accuracy: 0.9827 - val_loss: 0.9006 - val_accuracy: 0.8942\n",
      "Epoch 19/30\n",
      "625/625 [==============================] - 20s 31ms/step - loss: 0.0682 - accuracy: 0.9846 - val_loss: 0.8582 - val_accuracy: 0.8677\n",
      "Epoch 20/30\n",
      "625/625 [==============================] - 20s 31ms/step - loss: 0.0636 - accuracy: 0.9854 - val_loss: 0.8736 - val_accuracy: 0.8992\n",
      "Epoch 21/30\n",
      "625/625 [==============================] - 20s 31ms/step - loss: 0.0791 - accuracy: 0.9843 - val_loss: 0.7839 - val_accuracy: 0.9055\n",
      "Epoch 22/30\n",
      "625/625 [==============================] - 20s 31ms/step - loss: 0.0717 - accuracy: 0.9852 - val_loss: 1.1884 - val_accuracy: 0.8990\n",
      "Epoch 23/30\n",
      "625/625 [==============================] - 20s 31ms/step - loss: 0.0791 - accuracy: 0.9850 - val_loss: 0.9586 - val_accuracy: 0.9143\n",
      "Epoch 24/30\n",
      "625/625 [==============================] - 20s 32ms/step - loss: 0.0870 - accuracy: 0.9855 - val_loss: 1.0120 - val_accuracy: 0.8910\n",
      "Epoch 25/30\n",
      "625/625 [==============================] - 20s 31ms/step - loss: 0.0817 - accuracy: 0.9870 - val_loss: 0.9556 - val_accuracy: 0.9105\n",
      "Epoch 26/30\n",
      "625/625 [==============================] - 20s 31ms/step - loss: 0.0823 - accuracy: 0.9852 - val_loss: 1.2442 - val_accuracy: 0.9038\n",
      "Epoch 27/30\n",
      "625/625 [==============================] - 20s 32ms/step - loss: 0.0752 - accuracy: 0.9868 - val_loss: 1.5829 - val_accuracy: 0.8985\n",
      "Epoch 28/30\n",
      "625/625 [==============================] - 20s 31ms/step - loss: 0.0916 - accuracy: 0.9857 - val_loss: 1.2414 - val_accuracy: 0.8990\n",
      "Epoch 29/30\n",
      "625/625 [==============================] - 20s 31ms/step - loss: 0.0848 - accuracy: 0.9869 - val_loss: 1.3793 - val_accuracy: 0.9112\n",
      "Epoch 30/30\n",
      "625/625 [==============================] - 20s 32ms/step - loss: 0.0782 - accuracy: 0.9871 - val_loss: 1.7491 - val_accuracy: 0.9105\n"
     ]
    }
   ],
   "source": [
    "callbacks = [\n",
    "    keras.callbacks.ModelCheckpoint(\n",
    "        filepath=\"convnet_from_scratch.keras\",\n",
    "        save_best_only=True,\n",
    "        monitor=\"val_loss\")\n",
    "]\n",
    "history = model.fit(\n",
    "    train_dataset,\n",
    "    epochs=30,\n",
    "    validation_data=validation_dataset,\n",
    "    callbacks=callbacks)"
   ]
  },
  {
   "cell_type": "code",
   "execution_count": 21,
   "id": "7206a831-cb95-4cb4-a59a-dd1c5bfe29ea",
   "metadata": {},
   "outputs": [
    {
     "data": {
      "image/png": "[encoded data removed]",
      "text/plain": [
       "<Figure size 640x480 with 1 Axes>"
      ]
     },
     "metadata": {},
     "output_type": "display_data"
    },
    {
     "data": {
      "image/png": "[encoded data removed]",
      "text/plain": [
       "<Figure size 640x480 with 1 Axes>"
      ]
     },
     "metadata": {},
     "output_type": "display_data"
    }
   ],
   "source": [
    "import matplotlib.pyplot as plt\n",
    "accuracy = history.history[\"accuracy\"]\n",
    "val_accuracy = history.history[\"val_accuracy\"]\n",
    "loss = history.history[\"loss\"]\n",
    "val_loss = history.history[\"val_loss\"]\n",
    "epochs = range(1, len(accuracy) + 1)\n",
    "plt.plot(epochs, accuracy, \"bo\", label=\"Training accuracy\")\n",
    "plt.plot(epochs, val_accuracy, \"b\", label=\"Validation accuracy\")\n",
    "plt.title(\"Training and validation accuracy\")\n",
    "plt.legend()\n",
    "plt.figure()\n",
    "plt.plot(epochs, loss, \"bo\", label=\"Training loss\")\n",
    "plt.plot(epochs, val_loss, \"b\", label=\"Validation loss\")\n",
    "plt.title(\"Training and validation loss\")\n",
    "plt.legend()\n",
    "plt.show()"
   ]
  },
  {
   "cell_type": "code",
   "execution_count": 22,
   "id": "324ae435-6ac4-48ea-8613-2e3d90c1661a",
   "metadata": {},
   "outputs": [
    {
     "name": "stdout",
     "output_type": "stream",
     "text": [
      "32/32 [==============================] - 2s 34ms/step - loss: 0.2587 - accuracy: 0.9050\n",
      "Test accuracy: 0.905\n"
     ]
    }
   ],
   "source": [
    "test_model = keras.models.load_model(\"convnet_from_scratch.keras\")\n",
    "test_loss, test_acc = test_model.evaluate(test_dataset)\n",
    "print(f\"Test accuracy: {test_acc:.3f}\")"
   ]
  },
  {
   "cell_type": "code",
   "execution_count": null,
   "id": "ea5c4ef8-f993-48fb-91eb-c1eaf8bf29c4",
   "metadata": {},
   "outputs": [],
   "source": []
  }
 ],
 "metadata": {
  "kernelspec": {
   "display_name": "Python 3 (ipykernel)",
   "language": "python",
   "name": "python3"
  },
  "language_info": {
   "codemirror_mode": {
    "name": "ipython",
    "version": 3
   },
   "file_extension": ".py",
   "mimetype": "text/x-python",
   "name": "python",
   "nbconvert_exporter": "python",
   "pygments_lexer": "ipython3",
   "version": "3.11.8"
  }
 },
 "nbformat": 4,
 "nbformat_minor": 5
}
